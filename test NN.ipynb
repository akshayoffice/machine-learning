{
 "cells": [
  {
   "cell_type": "code",
   "execution_count": 1,
   "metadata": {},
   "outputs": [],
   "source": [
    "import matplotlib.pyplot as plt\n",
    "import numpy as np"
   ]
  },
  {
   "cell_type": "code",
   "execution_count": 27,
   "metadata": {},
   "outputs": [],
   "source": [
    "## each point is length , width ,type(0,1)\n",
    "## type 0 ==> blue, type 1 ==> red\n",
    "data = [ [3, 1.5, 1],\n",
    "         [2, 1,  0],\n",
    "         [4, 15, 1],\n",
    "         [3 ,1, 0],\n",
    "         [3.5 ,0.5, 1],\n",
    "         [2 ,0.5, 0],\n",
    "         [5.5 ,1, 1],\n",
    "         [1 ,1, 0]\n",
    "    \n",
    "]\n",
    "mystery_flower = [4.5, 1]"
   ]
  },
  {
   "cell_type": "code",
   "execution_count": 28,
   "metadata": {},
   "outputs": [],
   "source": [
    "w1 = np.random.randn()\n",
    "w2 = np.random.randn()\n",
    "b = np.random.random()"
   ]
  },
  {
   "cell_type": "code",
   "execution_count": 29,
   "metadata": {},
   "outputs": [],
   "source": [
    "def sigmoid(x):\n",
    "    return 1 / (1 + np.exp(-x))\n",
    "\n",
    "def sigmoid_p(x):\n",
    "    return sigmoid(x) * (1 - sigmoid(x))"
   ]
  },
  {
   "cell_type": "code",
   "execution_count": 30,
   "metadata": {},
   "outputs": [],
   "source": [
    "T = np.linspace(-5,5,100)\n",
    "y = sigmoid(T)"
   ]
  },
  {
   "cell_type": "code",
   "execution_count": 31,
   "metadata": {},
   "outputs": [],
   "source": [
    "%matplotlib inline"
   ]
  },
  {
   "cell_type": "code",
   "execution_count": 32,
   "metadata": {},
   "outputs": [
    {
     "data": {
      "text/plain": [
       "[<matplotlib.lines.Line2D at 0x7f454dc70d30>]"
      ]
     },
     "execution_count": 32,
     "metadata": {},
     "output_type": "execute_result"
    },
    {
     "data": {
      "image/png": "[encoded data removed]",
      "text/plain": [
       "<Figure size 432x288 with 1 Axes>"
      ]
     },
     "metadata": {
      "needs_background": "light"
     },
     "output_type": "display_data"
    }
   ],
   "source": [
    "plt.plot(T,sigmoid(T),c='r')\n",
    "plt.plot(T,sigmoid_p(T),c='b')"
   ]
  },
  {
   "cell_type": "code",
   "execution_count": 33,
   "metadata": {},
   "outputs": [
    {
     "data": {
      "text/plain": [
       "8"
      ]
     },
     "execution_count": 33,
     "metadata": {},
     "output_type": "execute_result"
    }
   ],
   "source": [
    "len(data)"
   ]
  },
  {
   "cell_type": "code",
   "execution_count": 34,
   "metadata": {},
   "outputs": [
    {
     "data": {
      "image/png": "[encoded data removed]",
      "text/plain": [
       "<Figure size 432x288 with 1 Axes>"
      ]
     },
     "metadata": {
      "needs_background": "light"
     },
     "output_type": "display_data"
    }
   ],
   "source": [
    "## scatter plot\n",
    "for i in range(len(data)):\n",
    "    point = data[i]\n",
    "    color = 'r'\n",
    "    if point[2] == 0:\n",
    "        color = 'b'\n",
    "    plt.scatter(point[0],point[1],c=color)"
   ]
  },
  {
   "cell_type": "code",
   "execution_count": 64,
   "metadata": {},
   "outputs": [
    {
     "data": {
      "text/plain": [
       "0"
      ]
     },
     "execution_count": 64,
     "metadata": {},
     "output_type": "execute_result"
    }
   ],
   "source": [
    "np.random.randint(4)#Return random integers from `low` (inclusive) to `high` (exclusive)."
   ]
  },
  {
   "cell_type": "code",
   "execution_count": 66,
   "metadata": {},
   "outputs": [
    {
     "name": "stdout",
     "output_type": "stream",
     "text": [
      "pred is  0.041933582229446265 [3, 1.5, 1] 0.9178912608597013\n",
      "pred is  0.0013702939829118063 [5.5, 1, 1] 0.997261289739776\n",
      "pred is  0.0322661754343802 [4, 15, 1] 0.9365087552084019\n",
      "pred is  0.0013702939829118063 [5.5, 1, 1] 0.997261289739776\n",
      "pred is  0.39366849768064743 [1, 1, 0] 0.1549748860661379\n",
      "pred is  0.39366849768064743 [1, 1, 0] 0.1549748860661379\n",
      "pred is  0.14176802082813938 [2, 1, 0] 0.020098171729527763\n",
      "pred is  0.0322661754343802 [4, 15, 1] 0.9365087552084019\n",
      "pred is  0.13689769879893518 [2, 0.5, 0] 0.01874097993644398\n",
      "pred is  0.0013702939829118063 [5.5, 1, 1] 0.997261289739776\n",
      "pred is  0.0013702939829118063 [5.5, 1, 1] 0.997261289739776\n",
      "pred is  0.0322661754343802 [4, 15, 1] 0.9365087552084019\n",
      "pred is  0.39366849768064743 [1, 1, 0] 0.1549748860661379\n",
      "pred is  0.39366849768064743 [1, 1, 0] 0.1549748860661379\n",
      "pred is  0.019948594803057686 [3.5, 0.5, 1] 0.9605007568285012\n",
      "pred is  0.041933582229446265 [3, 1.5, 1] 0.9178912608597013\n",
      "pred is  0.13689769879893518 [2, 0.5, 0] 0.01874097993644398\n",
      "pred is  0.0322661754343802 [4, 15, 1] 0.9365087552084019\n",
      "pred is  0.13689769879893518 [2, 0.5, 0] 0.01874097993644398\n",
      "pred is  0.019948594803057686 [3.5, 0.5, 1] 0.9605007568285012\n",
      "pred is  0.041933582229446265 [3, 1.5, 1] 0.9178912608597013\n",
      "pred is  0.041933582229446265 [3, 1.5, 1] 0.9178912608597013\n",
      "pred is  0.019948594803057686 [3.5, 0.5, 1] 0.9605007568285012\n",
      "pred is  0.0013702939829118063 [5.5, 1, 1] 0.997261289739776\n",
      "pred is  0.0322661754343802 [4, 15, 1] 0.9365087552084019\n",
      "pred is  0.041933582229446265 [3, 1.5, 1] 0.9178912608597013\n",
      "pred is  0.019948594803057686 [3.5, 0.5, 1] 0.9605007568285012\n",
      "pred is  0.13689769879893518 [2, 0.5, 0] 0.01874097993644398\n",
      "pred is  0.0013702939829118063 [5.5, 1, 1] 0.997261289739776\n",
      "pred is  0.13689769879893518 [2, 0.5, 0] 0.01874097993644398\n",
      "pred is  0.041933582229446265 [3, 1.5, 1] 0.9178912608597013\n",
      "pred is  0.14176802082813938 [2, 1, 0] 0.020098171729527763\n",
      "pred is  0.019948594803057686 [3.5, 0.5, 1] 0.9605007568285012\n",
      "pred is  0.0322661754343802 [4, 15, 1] 0.9365087552084019\n",
      "pred is  0.0322661754343802 [4, 15, 1] 0.9365087552084019\n",
      "pred is  0.040331812102278895 [3, 1, 0] 0.0016266550674535305\n",
      "pred is  0.040331812102278895 [3, 1, 0] 0.0016266550674535305\n",
      "pred is  0.39366849768064743 [1, 1, 0] 0.1549748860661379\n",
      "pred is  0.13689769879893518 [2, 0.5, 0] 0.01874097993644398\n",
      "pred is  0.041933582229446265 [3, 1.5, 1] 0.9178912608597013\n",
      "pred is  0.14176802082813938 [2, 1, 0] 0.020098171729527763\n",
      "pred is  0.041933582229446265 [3, 1.5, 1] 0.9178912608597013\n",
      "pred is  0.0322661754343802 [4, 15, 1] 0.9365087552084019\n",
      "pred is  0.019948594803057686 [3.5, 0.5, 1] 0.9605007568285012\n",
      "pred is  0.041933582229446265 [3, 1.5, 1] 0.9178912608597013\n",
      "pred is  0.14176802082813938 [2, 1, 0] 0.020098171729527763\n",
      "pred is  0.040331812102278895 [3, 1, 0] 0.0016266550674535305\n",
      "pred is  0.040331812102278895 [3, 1, 0] 0.0016266550674535305\n",
      "pred is  0.39366849768064743 [1, 1, 0] 0.1549748860661379\n",
      "pred is  0.019948594803057686 [3.5, 0.5, 1] 0.9605007568285012\n",
      "pred is  0.040331812102278895 [3, 1, 0] 0.0016266550674535305\n",
      "pred is  0.14176802082813938 [2, 1, 0] 0.020098171729527763\n",
      "pred is  0.019948594803057686 [3.5, 0.5, 1] 0.9605007568285012\n",
      "pred is  0.0322661754343802 [4, 15, 1] 0.9365087552084019\n",
      "pred is  0.019948594803057686 [3.5, 0.5, 1] 0.9605007568285012\n",
      "pred is  0.041933582229446265 [3, 1.5, 1] 0.9178912608597013\n",
      "pred is  0.39366849768064743 [1, 1, 0] 0.1549748860661379\n",
      "pred is  0.0322661754343802 [4, 15, 1] 0.9365087552084019\n",
      "pred is  0.14176802082813938 [2, 1, 0] 0.020098171729527763\n",
      "pred is  0.040331812102278895 [3, 1, 0] 0.0016266550674535305\n",
      "pred is  0.0013702939829118063 [5.5, 1, 1] 0.997261289739776\n",
      "pred is  0.14176802082813938 [2, 1, 0] 0.020098171729527763\n",
      "pred is  0.040331812102278895 [3, 1, 0] 0.0016266550674535305\n",
      "pred is  0.040331812102278895 [3, 1, 0] 0.0016266550674535305\n",
      "pred is  0.019948594803057686 [3.5, 0.5, 1] 0.9605007568285012\n",
      "pred is  0.13689769879893518 [2, 0.5, 0] 0.01874097993644398\n",
      "pred is  0.14176802082813938 [2, 1, 0] 0.020098171729527763\n",
      "pred is  0.040331812102278895 [3, 1, 0] 0.0016266550674535305\n",
      "pred is  0.39366849768064743 [1, 1, 0] 0.1549748860661379\n",
      "pred is  0.14176802082813938 [2, 1, 0] 0.020098171729527763\n",
      "pred is  0.041933582229446265 [3, 1.5, 1] 0.9178912608597013\n",
      "pred is  0.019948594803057686 [3.5, 0.5, 1] 0.9605007568285012\n",
      "pred is  0.14176802082813938 [2, 1, 0] 0.020098171729527763\n",
      "pred is  0.019948594803057686 [3.5, 0.5, 1] 0.9605007568285012\n",
      "pred is  0.040331812102278895 [3, 1, 0] 0.0016266550674535305\n",
      "pred is  0.14176802082813938 [2, 1, 0] 0.020098171729527763\n",
      "pred is  0.13689769879893518 [2, 0.5, 0] 0.01874097993644398\n",
      "pred is  0.019948594803057686 [3.5, 0.5, 1] 0.9605007568285012\n",
      "pred is  0.39366849768064743 [1, 1, 0] 0.1549748860661379\n",
      "pred is  0.040331812102278895 [3, 1, 0] 0.0016266550674535305\n",
      "pred is  0.019948594803057686 [3.5, 0.5, 1] 0.9605007568285012\n",
      "pred is  0.0013702939829118063 [5.5, 1, 1] 0.997261289739776\n",
      "pred is  0.14176802082813938 [2, 1, 0] 0.020098171729527763\n",
      "pred is  0.0322661754343802 [4, 15, 1] 0.9365087552084019\n",
      "pred is  0.019948594803057686 [3.5, 0.5, 1] 0.9605007568285012\n",
      "pred is  0.019948594803057686 [3.5, 0.5, 1] 0.9605007568285012\n",
      "pred is  0.14176802082813938 [2, 1, 0] 0.020098171729527763\n",
      "pred is  0.0013702939829118063 [5.5, 1, 1] 0.997261289739776\n",
      "pred is  0.019948594803057686 [3.5, 0.5, 1] 0.9605007568285012\n",
      "pred is  0.0013702939829118063 [5.5, 1, 1] 0.997261289739776\n",
      "pred is  0.39366849768064743 [1, 1, 0] 0.1549748860661379\n",
      "pred is  0.019948594803057686 [3.5, 0.5, 1] 0.9605007568285012\n",
      "pred is  0.019948594803057686 [3.5, 0.5, 1] 0.9605007568285012\n",
      "pred is  0.041933582229446265 [3, 1.5, 1] 0.9178912608597013\n",
      "pred is  0.019948594803057686 [3.5, 0.5, 1] 0.9605007568285012\n",
      "pred is  0.041933582229446265 [3, 1.5, 1] 0.9178912608597013\n",
      "pred is  0.040331812102278895 [3, 1, 0] 0.0016266550674535305\n",
      "pred is  0.0013702939829118063 [5.5, 1, 1] 0.997261289739776\n",
      "pred is  0.019948594803057686 [3.5, 0.5, 1] 0.9605007568285012\n",
      "pred is  0.14176802082813938 [2, 1, 0] 0.020098171729527763\n"
     ]
    }
   ],
   "source": [
    "## training loop\n",
    "for i in range(100):\n",
    "    ri = np.random.randint(len(data))\n",
    "    point = data[ri]\n",
    "    z = point[0] * w1 + point[1] * w2 + b\n",
    "    pred = sigmoid(z)\n",
    "    \n",
    "    target = point[2]\n",
    "    \n",
    "    cost = np.square(pred - target)\n",
    "    print(\"pred is \",pred,point,cost)\n",
    "    dcost_pred = 2 * (pred - target) ## derivative of the cost with respect to prediction\n",
    "    "
   ]
  }
 ],
 "metadata": {
  "kernelspec": {
   "display_name": "Python 3",
   "language": "python",
   "name": "python3"
  },
  "language_info": {
   "codemirror_mode": {
    "name": "ipython",
    "version": 3
   },
   "file_extension": ".py",
   "mimetype": "text/x-python",
   "name": "python",
   "nbconvert_exporter": "python",
   "pygments_lexer": "ipython3",
   "version": "3.5.2"
  }
 },
 "nbformat": 4,
 "nbformat_minor": 2
}
