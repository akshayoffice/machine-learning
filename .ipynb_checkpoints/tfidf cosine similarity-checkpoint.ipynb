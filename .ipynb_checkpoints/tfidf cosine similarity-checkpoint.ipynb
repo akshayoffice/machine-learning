{
 "cells": [
  {
   "cell_type": "markdown",
   "metadata": {},
   "source": [
    "## Tfidf\n",
    "### TF (Term frequency) -> Basically it say how frequent the term/token appears\n",
    "#### create a dictionary of words present in the whole document size. We ignore some common words also called as stop words e.g. the, of, a, an, is etc. since these words are pretty common and it will not help us in our goal of choosing important words. "
   ]
  },
  {
   "cell_type": "code",
   "execution_count": 1,
   "metadata": {},
   "outputs": [],
   "source": [
    "### lib for data reading\n",
    "import pandas as pd\n",
    "import os"
   ]
  },
  {
   "cell_type": "markdown",
   "metadata": {},
   "source": [
    "###  TFn = (No. of times term t appears in a doc) / (Total no of times in the doc)"
   ]
  },
  {
   "cell_type": "code",
   "execution_count": 2,
   "metadata": {},
   "outputs": [],
   "source": [
    "path = \"/home/ak/Documents/poc/\"\n",
    "file = \"data_for_tfidf.csv\""
   ]
  },
  {
   "cell_type": "code",
   "execution_count": 3,
   "metadata": {},
   "outputs": [],
   "source": [
    "full_path = os.path.join(path,file)\n",
    "df = pd.read_csv(full_path)"
   ]
  },
  {
   "cell_type": "code",
   "execution_count": 11,
   "metadata": {},
   "outputs": [
    {
     "data": {
      "text/html": [
       "<div>\n",
       "<style scoped>\n",
       "    .dataframe tbody tr th:only-of-type {\n",
       "        vertical-align: middle;\n",
       "    }\n",
       "\n",
       "    .dataframe tbody tr th {\n",
       "        vertical-align: top;\n",
       "    }\n",
       "\n",
       "    .dataframe thead th {\n",
       "        text-align: right;\n",
       "    }\n",
       "</style>\n",
       "<table border=\"1\" class=\"dataframe\">\n",
       "  <thead>\n",
       "    <tr style=\"text-align: right;\">\n",
       "      <th></th>\n",
       "      <th>Title</th>\n",
       "      <th>Text</th>\n",
       "    </tr>\n",
       "  </thead>\n",
       "  <tbody>\n",
       "    <tr>\n",
       "      <th>0</th>\n",
       "      <td>1</td>\n",
       "      <td>can you confirm my payment of my bills</td>\n",
       "    </tr>\n",
       "    <tr>\n",
       "      <th>1</th>\n",
       "      <td>2</td>\n",
       "      <td>how can i book a flight ticket</td>\n",
       "    </tr>\n",
       "    <tr>\n",
       "      <th>2</th>\n",
       "      <td>3</td>\n",
       "      <td>What bills can I pay through Online Bill Payment?</td>\n",
       "    </tr>\n",
       "    <tr>\n",
       "      <th>3</th>\n",
       "      <td>4</td>\n",
       "      <td>How do I get assistance using Online Bill Paym...</td>\n",
       "    </tr>\n",
       "    <tr>\n",
       "      <th>4</th>\n",
       "      <td>5</td>\n",
       "      <td>How do I know my reservation was booked?</td>\n",
       "    </tr>\n",
       "  </tbody>\n",
       "</table>\n",
       "</div>"
      ],
      "text/plain": [
       "   Title                                               Text\n",
       "0      1             can you confirm my payment of my bills\n",
       "1      2                     how can i book a flight ticket\n",
       "2      3  What bills can I pay through Online Bill Payment?\n",
       "3      4  How do I get assistance using Online Bill Paym...\n",
       "4      5           How do I know my reservation was booked?"
      ]
     },
     "execution_count": 11,
     "metadata": {},
     "output_type": "execute_result"
    }
   ],
   "source": [
    "df.head()"
   ]
  },
  {
   "cell_type": "code",
   "execution_count": 12,
   "metadata": {},
   "outputs": [],
   "source": [
    "from sklearn.feature_extraction.text import CountVectorizer\n"
   ]
  },
  {
   "cell_type": "code",
   "execution_count": 13,
   "metadata": {},
   "outputs": [],
   "source": [
    "cnt_vec = CountVectorizer(stop_words='english')"
   ]
  },
  {
   "cell_type": "code",
   "execution_count": 14,
   "metadata": {},
   "outputs": [
    {
     "name": "stdout",
     "output_type": "stream",
     "text": [
      "frozenset({'seem', 'it', 'now', 'done', 'sometimes', 'hasnt', 'mostly', 'were', 'or', 'nobody', 'behind', 'whole', 'on', 'some', 'there', 'call', 'further', 'latter', 'beyond', 'still', 'system', 'are', 'describe', 'via', 'we', 'former', 'whereas', 'everywhere', 'first', 'about', 'nine', 'yet', 'eleven', 'anyone', 'four', 'formerly', 'thru', 'much', 'except', 'why', 'into', 'else', 'sometime', 'made', 'anyhow', 'hundred', 'twelve', 'nothing', 'anyway', 'whereafter', 'more', 'they', 'thus', 'elsewhere', 'therefore', 'fire', 'at', 'any', 'was', 'through', 'back', 'part', 'throughout', 'detail', 'once', 'you', 'nor', 're', 'these', 'became', 'thence', 'can', 'others', 'neither', 'no', 'three', 'both', 'has', 'seemed', 'toward', 'moreover', 'upon', 'yourselves', 'out', 'fifty', 'everyone', 'be', 'latterly', 'may', 'yours', 'although', 'cannot', 'indeed', 'same', 'around', 'side', 'am', 'own', 'inc', 'had', 'of', 'wherever', 'herself', 'etc', 'something', 'name', 'until', 'not', 'from', 'could', 'across', 'together', 'for', 'those', 'almost', 'enough', 'besides', 'how', 'him', 'without', 'move', 'whose', 'hence', 'i', 'keep', 'where', 'meanwhile', 'six', 'thick', 'that', 'two', 'also', 'always', 'put', 'whither', 'since', 'alone', 'de', 'than', 'up', 'amoungst', 'so', 'themselves', 'often', 'cant', 'himself', 'ours', 'before', 'third', 'wherein', 'what', 'towards', 'over', 'seeming', 'while', 'here', 'who', 'somewhere', 'a', 'anything', 'interest', 'become', 'mill', 'which', 'cry', 'co', 'even', 'find', 'in', 'rather', 'very', 'whom', 'hereupon', 'will', 'though', 'within', 'go', 'between', 'least', 'seems', 'con', 'serious', 'afterwards', 'please', 'thereby', 'us', 'fifteen', 'again', 'therein', 'being', 'less', 'whoever', 'either', 'down', 'most', 'however', 'last', 'the', 'other', 'empty', 'front', 'your', 'all', 'beside', 'whenever', 'have', 'eight', 'is', 'every', 'its', 'such', 'top', 'becomes', 'five', 'myself', 'sixty', 'un', 'would', 'noone', 'well', 'been', 'below', 'next', 'her', 'she', 'ever', 'herein', 'them', 'amongst', 'due', 'our', 'bottom', 'get', 'too', 'by', 'along', 'otherwise', 'but', 'as', 'namely', 'then', 'thereafter', 'whence', 'must', 'their', 'nevertheless', 'per', 'ourselves', 'another', 'each', 'give', 'if', 'sincere', 'when', 'after', 'ltd', 'might', 'mine', 'show', 'someone', 'everything', 'and', 'bill', 'do', 'found', 'hers', 'ie', 'ten', 'thereupon', 'see', 'yourself', 'anywhere', 'onto', 'because', 'he', 'among', 'thin', 'whereupon', 'take', 'with', 'never', 'under', 'an', 'becoming', 'only', 'beforehand', 'itself', 'one', 'none', 'forty', 'full', 'my', 'fill', 'somehow', 'this', 'hereby', 'should', 'twenty', 'whereby', 'whatever', 'to', 'whether', 'me', 'couldnt', 'during', 'already', 'above', 'his', 'amount', 'several', 'off', 'hereafter', 'eg', 'nowhere', 'many', 'perhaps', 'against', 'few'})\n"
     ]
    }
   ],
   "source": [
    "from sklearn.feature_extraction import stop_words\n",
    "print(stop_words.ENGLISH_STOP_WORDS)"
   ]
  },
  {
   "cell_type": "code",
   "execution_count": 15,
   "metadata": {},
   "outputs": [
    {
     "data": {
      "text/plain": [
       "CountVectorizer(analyzer='word', binary=False, decode_error='strict',\n",
       "        dtype=<class 'numpy.int64'>, encoding='utf-8', input='content',\n",
       "        lowercase=True, max_df=1.0, max_features=None, min_df=1,\n",
       "        ngram_range=(1, 1), preprocessor=None, stop_words='english',\n",
       "        strip_accents=None, token_pattern='(?u)\\\\b\\\\w\\\\w+\\\\b',\n",
       "        tokenizer=None, vocabulary=None)"
      ]
     },
     "execution_count": 15,
     "metadata": {},
     "output_type": "execute_result"
    }
   ],
   "source": [
    "cnt_vec.fit(df['Text'])"
   ]
  },
  {
   "cell_type": "code",
   "execution_count": 16,
   "metadata": {},
   "outputs": [],
   "source": [
    "bag_of_words = cnt_vec.transform(df['Text'])"
   ]
  },
  {
   "cell_type": "code",
   "execution_count": 17,
   "metadata": {},
   "outputs": [
    {
     "data": {
      "text/plain": [
       "24"
      ]
     },
     "execution_count": 17,
     "metadata": {},
     "output_type": "execute_result"
    }
   ],
   "source": [
    "len(cnt_vec.get_feature_names())"
   ]
  },
  {
   "cell_type": "code",
   "execution_count": 21,
   "metadata": {},
   "outputs": [
    {
     "data": {
      "text/plain": [
       "array([[0, 0, 0, 1, 0, 0, 0, 1, 0, 0, 0, 0, 0, 0, 0, 0, 1, 0, 0, 0, 0, 0,\n",
       "        0, 0],\n",
       "       [0, 0, 0, 0, 0, 1, 0, 0, 1, 0, 0, 0, 0, 0, 0, 0, 0, 0, 0, 0, 1, 0,\n",
       "        0, 0],\n",
       "       [0, 0, 0, 1, 0, 0, 0, 0, 0, 0, 0, 1, 0, 0, 1, 0, 1, 0, 0, 0, 0, 0,\n",
       "        0, 0],\n",
       "       [0, 0, 1, 0, 0, 0, 0, 0, 0, 0, 0, 1, 0, 0, 0, 0, 1, 0, 0, 0, 0, 0,\n",
       "        0, 1],\n",
       "       [0, 0, 0, 0, 0, 0, 1, 0, 0, 1, 0, 0, 0, 0, 0, 0, 0, 1, 0, 0, 0, 0,\n",
       "        0, 0],\n",
       "       [0, 0, 0, 0, 1, 0, 0, 0, 0, 0, 0, 0, 0, 1, 0, 0, 0, 0, 0, 0, 1, 0,\n",
       "        0, 0],\n",
       "       [1, 0, 0, 0, 0, 1, 0, 0, 1, 0, 1, 0, 0, 0, 0, 0, 0, 0, 0, 0, 0, 0,\n",
       "        0, 0],\n",
       "       [0, 0, 0, 1, 0, 0, 0, 0, 0, 0, 0, 0, 1, 0, 1, 1, 0, 0, 1, 0, 0, 0,\n",
       "        1, 0],\n",
       "       [0, 1, 0, 0, 0, 0, 0, 0, 0, 0, 0, 0, 0, 0, 1, 0, 0, 0, 0, 1, 0, 1,\n",
       "        0, 0]])"
      ]
     },
     "execution_count": 21,
     "metadata": {},
     "output_type": "execute_result"
    }
   ],
   "source": [
    "bag_of_words.toarray()"
   ]
  },
  {
   "cell_type": "code",
   "execution_count": 20,
   "metadata": {},
   "outputs": [
    {
     "data": {
      "text/plain": [
       "(9, 24)"
      ]
     },
     "execution_count": 20,
     "metadata": {},
     "output_type": "execute_result"
    }
   ],
   "source": [
    "bag_of_words.shape"
   ]
  },
  {
   "cell_type": "markdown",
   "metadata": {},
   "source": [
    "### TF is good for text similarity in general but TFIDF is good for search query relevane"
   ]
  },
  {
   "cell_type": "markdown",
   "metadata": {},
   "source": [
    "IDF (inverse document frequency) \n",
    "IDF (t,D) = log N / |{dε D; tε d}|\n",
    "  where N is the total no of docs in the collection also known as cardinality of doc space\n",
    "  \n",
    "  {dε D; tε d} is the number of docs where term t is present"
   ]
  },
  {
   "cell_type": "code",
   "execution_count": 24,
   "metadata": {},
   "outputs": [],
   "source": [
    "from sklearn.feature_extraction.text import TfidfTransformer"
   ]
  },
  {
   "cell_type": "code",
   "execution_count": 25,
   "metadata": {},
   "outputs": [],
   "source": [
    "tfidf_obj = TfidfTransformer()"
   ]
  },
  {
   "cell_type": "code",
   "execution_count": 26,
   "metadata": {},
   "outputs": [
    {
     "data": {
      "text/plain": [
       "TfidfTransformer(norm='l2', smooth_idf=True, sublinear_tf=False, use_idf=True)"
      ]
     },
     "execution_count": 26,
     "metadata": {},
     "output_type": "execute_result"
    }
   ],
   "source": [
    "tfidf_obj.fit(bag_of_words)"
   ]
  },
  {
   "cell_type": "code",
   "execution_count": 31,
   "metadata": {},
   "outputs": [],
   "source": [
    "tfidf_matrix = tfidf_obj.transform(bag_of_words)"
   ]
  },
  {
   "cell_type": "code",
   "execution_count": 32,
   "metadata": {},
   "outputs": [
    {
     "data": {
      "text/plain": [
       "array([[0.        , 0.        , 0.        , 0.50936532, 0.        ,\n",
       "        0.        , 0.        , 0.69360936, 0.        , 0.        ,\n",
       "        0.        , 0.        , 0.        , 0.        , 0.        ,\n",
       "        0.        , 0.50936532, 0.        , 0.        , 0.        ,\n",
       "        0.        , 0.        , 0.        , 0.        ],\n",
       "       [0.        , 0.        , 0.        , 0.        , 0.        ,\n",
       "        0.57735027, 0.        , 0.        , 0.57735027, 0.        ,\n",
       "        0.        , 0.        , 0.        , 0.        , 0.        ,\n",
       "        0.        , 0.        , 0.        , 0.        , 0.        ,\n",
       "        0.57735027, 0.        , 0.        , 0.        ],\n",
       "       [0.        , 0.        , 0.        , 0.48097015, 0.        ,\n",
       "        0.        , 0.        , 0.        , 0.        , 0.        ,\n",
       "        0.        , 0.55317552, 0.        , 0.        , 0.48097015,\n",
       "        0.        , 0.48097015, 0.        , 0.        , 0.        ,\n",
       "        0.        , 0.        , 0.        , 0.        ],\n",
       "       [0.        , 0.        , 0.55447213, 0.        , 0.        ,\n",
       "        0.        , 0.        , 0.        , 0.        , 0.        ,\n",
       "        0.        , 0.46831599, 0.        , 0.        , 0.        ,\n",
       "        0.        , 0.40718723, 0.        , 0.        , 0.        ,\n",
       "        0.        , 0.        , 0.        , 0.55447213],\n",
       "       [0.        , 0.        , 0.        , 0.        , 0.        ,\n",
       "        0.        , 0.57735027, 0.        , 0.        , 0.57735027,\n",
       "        0.        , 0.        , 0.        , 0.        , 0.        ,\n",
       "        0.        , 0.        , 0.57735027, 0.        , 0.        ,\n",
       "        0.        , 0.        , 0.        , 0.        ],\n",
       "       [0.        , 0.        , 0.        , 0.        , 0.60707871,\n",
       "        0.        , 0.        , 0.        , 0.        , 0.        ,\n",
       "        0.        , 0.        , 0.        , 0.60707871, 0.        ,\n",
       "        0.        , 0.        , 0.        , 0.        , 0.        ,\n",
       "        0.51274835, 0.        , 0.        , 0.        ],\n",
       "       [0.54020507, 0.        , 0.        , 0.        , 0.        ,\n",
       "        0.4562658 , 0.        , 0.        , 0.4562658 , 0.        ,\n",
       "        0.54020507, 0.        , 0.        , 0.        , 0.        ,\n",
       "        0.        , 0.        , 0.        , 0.        , 0.        ,\n",
       "        0.        , 0.        , 0.        , 0.        ],\n",
       "       [0.        , 0.        , 0.        , 0.32586866, 0.        ,\n",
       "        0.        , 0.        , 0.        , 0.        , 0.        ,\n",
       "        0.        , 0.        , 0.44373957, 0.        , 0.32586866,\n",
       "        0.44373957, 0.        , 0.        , 0.44373957, 0.        ,\n",
       "        0.        , 0.        , 0.44373957, 0.        ],\n",
       "       [0.        , 0.53154671, 0.        , 0.        , 0.        ,\n",
       "        0.        , 0.        , 0.        , 0.        , 0.        ,\n",
       "        0.        , 0.        , 0.        , 0.        , 0.39035151,\n",
       "        0.        , 0.        , 0.        , 0.        , 0.53154671,\n",
       "        0.        , 0.53154671, 0.        , 0.        ]])"
      ]
     },
     "execution_count": 32,
     "metadata": {},
     "output_type": "execute_result"
    }
   ],
   "source": [
    "tfidf_matrix.toarray()"
   ]
  },
  {
   "cell_type": "markdown",
   "metadata": {},
   "source": [
    "## what is cosine similarity\n",
    "### cosine similarity by measuring the cosine angle between two vectors\n",
    "### similarity = cos(Θ) = A . B / |A|.|B| \n",
    "### cos(0) = 1\n",
    "### cos(90) = 0"
   ]
  },
  {
   "cell_type": "code",
   "execution_count": 33,
   "metadata": {},
   "outputs": [],
   "source": [
    "from collections import Counter\n",
    "from sklearn.feature_extraction.text import CountVectorizer\n",
    "from sklearn.metrics.pairwise import cosine_similarity"
   ]
  },
  {
   "cell_type": "code",
   "execution_count": 44,
   "metadata": {},
   "outputs": [],
   "source": [
    "def get_cosine_sim(*list_of_tokens):\n",
    "    vectors = [term for term in get_vectors(*list_of_tokens)]\n",
    "    return cosine_similarity(vectors)"
   ]
  },
  {
   "cell_type": "code",
   "execution_count": 45,
   "metadata": {},
   "outputs": [],
   "source": [
    "def get_vectors(*list_of_tokens):\n",
    "    text = [t for t in list_of_tokens]\n",
    "    vectorizer = CountVectorizer()\n",
    "    vectorizer.fit(text)\n",
    "    return vectorizer.transform(text).toarray()"
   ]
  },
  {
   "cell_type": "code",
   "execution_count": null,
   "metadata": {},
   "outputs": [],
   "source": []
  },
  {
   "cell_type": "code",
   "execution_count": 47,
   "metadata": {},
   "outputs": [
    {
     "name": "stdout",
     "output_type": "stream",
     "text": [
      "[[1.  0.8]\n",
      " [0.8 1. ]]\n"
     ]
    }
   ],
   "source": [
    "print(get_cosine_sim(\"this is my first sentence\",\"this is my second sentence\"))"
   ]
  },
  {
   "cell_type": "code",
   "execution_count": null,
   "metadata": {},
   "outputs": [],
   "source": []
  }
 ],
 "metadata": {
  "kernelspec": {
   "display_name": "Python 3",
   "language": "python",
   "name": "python3"
  },
  "language_info": {
   "codemirror_mode": {
    "name": "ipython",
    "version": 3
   },
   "file_extension": ".py",
   "mimetype": "text/x-python",
   "name": "python",
   "nbconvert_exporter": "python",
   "pygments_lexer": "ipython3",
   "version": "3.5.2"
  }
 },
 "nbformat": 4,
 "nbformat_minor": 2
}
