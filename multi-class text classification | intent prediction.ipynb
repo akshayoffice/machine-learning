{
 "cells": [
  {
   "cell_type": "markdown",
   "metadata": {},
   "source": [
    "## Multiclass Text Classification (Natural Language Processing)"
   ]
  },
  {
   "cell_type": "code",
   "execution_count": 17,
   "metadata": {},
   "outputs": [],
   "source": [
    "import pandas as pd ### import pandas\n",
    "from sklearn.feature_extraction.text import CountVectorizer ### convert text into count vector\n",
    "from sklearn.feature_extraction.text import TfidfTransformer ### convert count transform data into tfidf form\n",
    "from nltk.stem import WordNetLemmatizer ### conversion of text into their lemmatize form\n",
    "import string ### import string for getting punctuation marks\n",
    "from nltk.corpus import stopwords ### stop word import"
   ]
  },
  {
   "cell_type": "markdown",
   "metadata": {},
   "source": [
    "#### create some training sentences that needs to store into Dataframe"
   ]
  },
  {
   "cell_type": "code",
   "execution_count": 18,
   "metadata": {},
   "outputs": [],
   "source": [
    "data_dict = [{\n",
    "    \"sentence\":\"can you just confirm my ticket booking\",\n",
    "    \"intent\":\"booking\" \n",
    "    },{\n",
    "    \"sentence\":\"i want to book a ticket for delhi\",\n",
    "    \"intent\":\"booking\"\n",
    "    },{\n",
    "    \"sentence\":\"can you look my confirmed booked ticket\",\n",
    "    \"intent\":\"booking\"\n",
    "    },{\n",
    "    \"sentence\":\"Hi!! how are you doing\",\n",
    "    \"intent\":\"greeting\"\n",
    "    },{\n",
    "    \"sentence\":\"hope you are doing well\",\n",
    "    \"intent\":\"greeting\"\n",
    "    },{\n",
    "    \"sentence\":\"Hello buddy\",\n",
    "    \"intent\":\"greeting\"\n",
    "    },{\n",
    "    \"sentence\":\"how can i perform payment through debit card or credit card?\",\n",
    "    \"intent\":\"payment\"\n",
    "    },{\n",
    "    \"sentence\":\"Do you charge a separate fee for your gateway?\",\n",
    "    \"intent\":\"payment\"\n",
    "    },{\n",
    "    \"sentence\":\"What fees do you charge each month?\",\n",
    "    \"intent\":\"payment\"\n",
    "    }\n",
    "]"
   ]
  },
  {
   "cell_type": "code",
   "execution_count": 19,
   "metadata": {},
   "outputs": [],
   "source": [
    "classified_df = pd.DataFrame(data_dict) ### create dataframe for existing training sentence"
   ]
  },
  {
   "cell_type": "markdown",
   "metadata": {},
   "source": [
    "### check the initial rows of data frame by printing out classified_df"
   ]
  },
  {
   "cell_type": "code",
   "execution_count": 20,
   "metadata": {},
   "outputs": [
    {
     "data": {
      "text/html": [
       "<div>\n",
       "<style scoped>\n",
       "    .dataframe tbody tr th:only-of-type {\n",
       "        vertical-align: middle;\n",
       "    }\n",
       "\n",
       "    .dataframe tbody tr th {\n",
       "        vertical-align: top;\n",
       "    }\n",
       "\n",
       "    .dataframe thead th {\n",
       "        text-align: right;\n",
       "    }\n",
       "</style>\n",
       "<table border=\"1\" class=\"dataframe\">\n",
       "  <thead>\n",
       "    <tr style=\"text-align: right;\">\n",
       "      <th></th>\n",
       "      <th>intent</th>\n",
       "      <th>sentence</th>\n",
       "    </tr>\n",
       "  </thead>\n",
       "  <tbody>\n",
       "    <tr>\n",
       "      <th>0</th>\n",
       "      <td>booking</td>\n",
       "      <td>can you just confirm my ticket booking</td>\n",
       "    </tr>\n",
       "    <tr>\n",
       "      <th>1</th>\n",
       "      <td>booking</td>\n",
       "      <td>i want to book a ticket for delhi</td>\n",
       "    </tr>\n",
       "    <tr>\n",
       "      <th>2</th>\n",
       "      <td>booking</td>\n",
       "      <td>can you look my confirmed booked ticket</td>\n",
       "    </tr>\n",
       "    <tr>\n",
       "      <th>3</th>\n",
       "      <td>greeting</td>\n",
       "      <td>Hi!! how are you doing</td>\n",
       "    </tr>\n",
       "    <tr>\n",
       "      <th>4</th>\n",
       "      <td>greeting</td>\n",
       "      <td>hope you are doing well</td>\n",
       "    </tr>\n",
       "  </tbody>\n",
       "</table>\n",
       "</div>"
      ],
      "text/plain": [
       "     intent                                 sentence\n",
       "0   booking   can you just confirm my ticket booking\n",
       "1   booking        i want to book a ticket for delhi\n",
       "2   booking  can you look my confirmed booked ticket\n",
       "3  greeting                   Hi!! how are you doing\n",
       "4  greeting                  hope you are doing well"
      ]
     },
     "execution_count": 20,
     "metadata": {},
     "output_type": "execute_result"
    }
   ],
   "source": [
    "classified_df.head()"
   ]
  },
  {
   "cell_type": "markdown",
   "metadata": {},
   "source": [
    "### Performed preprocessing to remove noise and make uniform for training sentences\n",
    "#### 1. first lemmatizer object for converting word into root form\n",
    "#### 2. in function text_process first remove punctuation char and then join again to form sentence\n",
    "#### 3. finally convert in lower case and remove stop english stopwords from training sentences"
   ]
  },
  {
   "cell_type": "code",
   "execution_count": 23,
   "metadata": {},
   "outputs": [],
   "source": [
    "lmtzr = WordNetLemmatizer()\n",
    "\n",
    "def text_process(mess):\n",
    "    \"\"\"\n",
    "    Takes in a string of text, then performs the following:\n",
    "    1. Remove all punctuation\n",
    "    2. Remove all stopwords\n",
    "    3. Returns a list of the cleaned text\n",
    "    \"\"\"\n",
    "    # Check characters to see if they are in punctuation\n",
    "    nopunc = [char for char in mess if char not in string.punctuation]\n",
    "\n",
    "    # Join the characters again to form the string.\n",
    "    nopunc = ''.join(nopunc)\n",
    "    \n",
    "    # Now just remove any stopwords\n",
    "    return [word for word in nopunc.split() if word.lower() not in stopwords.words('english')]\n",
    "    #return [lmtzr.lemmatize(word) for word in nopunc.split() if word.lower() not in stopwords.words('english')]b\n",
    "    "
   ]
  },
  {
   "cell_type": "code",
   "execution_count": 34,
   "metadata": {},
   "outputs": [
    {
     "name": "stdout",
     "output_type": "stream",
     "text": [
      "25\n"
     ]
    }
   ],
   "source": [
    "# convert the text into bag of word model and pass analyzer text_process function\n",
    "bow_transformer = CountVectorizer(analyzer=text_process).fit(classified_df['sentence'])\n",
    "\n",
    "# Print total number of vocab words\n",
    "print(len(bow_transformer.vocabulary_))"
   ]
  },
  {
   "cell_type": "markdown",
   "metadata": {},
   "source": [
    "#### check the total fitted vocabulary of training data set and printout the length and feature names"
   ]
  },
  {
   "cell_type": "code",
   "execution_count": 41,
   "metadata": {},
   "outputs": [
    {
     "name": "stdout",
     "output_type": "stream",
     "text": [
      "['Hello', 'Hi', 'book', 'booked', 'booking', 'buddy', 'card', 'charge', 'confirm', 'confirmed', 'credit', 'debit', 'delhi', 'fee', 'fees', 'gateway', 'hope', 'look', 'month', 'payment', 'perform', 'separate', 'ticket', 'want', 'well']\n"
     ]
    }
   ],
   "source": [
    "print(bow_transformer.get_feature_names())"
   ]
  },
  {
   "cell_type": "markdown",
   "metadata": {},
   "source": [
    "#### transform convert count vectorize numpy array to sparse matrix"
   ]
  },
  {
   "cell_type": "code",
   "execution_count": 44,
   "metadata": {},
   "outputs": [],
   "source": [
    "sentence_bow = bow_transformer.transform(classified_df['sentence'])"
   ]
  },
  {
   "cell_type": "markdown",
   "metadata": {},
   "source": [
    "#### check the bag of words for count vectorizer we have 25 columns here and 9 rows as per our training data"
   ]
  },
  {
   "cell_type": "code",
   "execution_count": 45,
   "metadata": {},
   "outputs": [
    {
     "data": {
      "text/plain": [
       "array([[0, 0, 0, 0, 1, 0, 0, 0, 1, 0, 0, 0, 0, 0, 0, 0, 0, 0, 0, 0, 0, 0,\n",
       "        1, 0, 0],\n",
       "       [0, 0, 1, 0, 0, 0, 0, 0, 0, 0, 0, 0, 1, 0, 0, 0, 0, 0, 0, 0, 0, 0,\n",
       "        1, 1, 0],\n",
       "       [0, 0, 0, 1, 0, 0, 0, 0, 0, 1, 0, 0, 0, 0, 0, 0, 0, 1, 0, 0, 0, 0,\n",
       "        1, 0, 0],\n",
       "       [0, 1, 0, 0, 0, 0, 0, 0, 0, 0, 0, 0, 0, 0, 0, 0, 0, 0, 0, 0, 0, 0,\n",
       "        0, 0, 0],\n",
       "       [0, 0, 0, 0, 0, 0, 0, 0, 0, 0, 0, 0, 0, 0, 0, 0, 1, 0, 0, 0, 0, 0,\n",
       "        0, 0, 1],\n",
       "       [1, 0, 0, 0, 0, 1, 0, 0, 0, 0, 0, 0, 0, 0, 0, 0, 0, 0, 0, 0, 0, 0,\n",
       "        0, 0, 0],\n",
       "       [0, 0, 0, 0, 0, 0, 2, 0, 0, 0, 1, 1, 0, 0, 0, 0, 0, 0, 0, 1, 1, 0,\n",
       "        0, 0, 0],\n",
       "       [0, 0, 0, 0, 0, 0, 0, 1, 0, 0, 0, 0, 0, 1, 0, 1, 0, 0, 0, 0, 0, 1,\n",
       "        0, 0, 0],\n",
       "       [0, 0, 0, 0, 0, 0, 0, 1, 0, 0, 0, 0, 0, 0, 1, 0, 0, 0, 1, 0, 0, 0,\n",
       "        0, 0, 0]])"
      ]
     },
     "execution_count": 45,
     "metadata": {},
     "output_type": "execute_result"
    }
   ],
   "source": [
    "sentence_bow.toarray()"
   ]
  },
  {
   "cell_type": "code",
   "execution_count": 48,
   "metadata": {},
   "outputs": [],
   "source": [
    "tfidf_transformer = TfidfTransformer().fit(sentence_bow) ### convert count vectorize bag of words into tfidf vectorize form"
   ]
  },
  {
   "cell_type": "markdown",
   "metadata": {},
   "source": [
    "##### Below we can see that (n_sample,feature vector) for data points and for response classs we have check the shape"
   ]
  },
  {
   "cell_type": "code",
   "execution_count": 49,
   "metadata": {},
   "outputs": [
    {
     "name": "stdout",
     "output_type": "stream",
     "text": [
      "(9, 25)\n"
     ]
    }
   ],
   "source": [
    "sentence_tfidf = tfidf_transformer.transform(sentence_bow)\n",
    "print(sentence_tfidf.shape)"
   ]
  },
  {
   "cell_type": "code",
   "execution_count": 55,
   "metadata": {},
   "outputs": [
    {
     "data": {
      "text/plain": [
       "(9,)"
      ]
     },
     "execution_count": 55,
     "metadata": {},
     "output_type": "execute_result"
    }
   ],
   "source": [
    "classified_df['intent'].shape"
   ]
  },
  {
   "cell_type": "markdown",
   "metadata": {},
   "source": [
    "### Fitting of the model in different Algos\n",
    "#### 1. MultinomialNB\n",
    "#### 2. LogisticRegression\n",
    "#### 3. LinearSVC"
   ]
  },
  {
   "cell_type": "code",
   "execution_count": 56,
   "metadata": {},
   "outputs": [],
   "source": [
    "from sklearn.naive_bayes import MultinomialNB\n",
    "from sklearn.linear_model import LogisticRegression\n",
    "from sklearn.svm import LinearSVC\n",
    "\n",
    "##### fit the sentence_tfidf and corresponding response classes for multinomial naive bayes\n",
    "detect_model = MultinomialNB().fit(sentence_tfidf, classified_df['intent'])\n",
    "\n",
    "### Logistic regression algo for fitting the data\n",
    "detect_model2 = LogisticRegression().fit(sentence_tfidf, classified_df['intent'])\n",
    "\n",
    "### LinearSVC algo for fitting the data\n",
    "detect_model3 = LinearSVC().fit(sentence_tfidf, classified_df['intent'])"
   ]
  },
  {
   "cell_type": "markdown",
   "metadata": {},
   "source": [
    "#### Checked the score for LinearSVC() model for existing training data"
   ]
  },
  {
   "cell_type": "code",
   "execution_count": 63,
   "metadata": {},
   "outputs": [
    {
     "data": {
      "text/plain": [
       "1.0"
      ]
     },
     "execution_count": 63,
     "metadata": {},
     "output_type": "execute_result"
    }
   ],
   "source": [
    "detect_model3.score(sentence_tfidf,classified_df['intent']) ## score for existing training data set matched 100 percent"
   ]
  },
  {
   "cell_type": "markdown",
   "metadata": {},
   "source": [
    "### Now we need to perfrom train test split approach for checking the accuracy"
   ]
  },
  {
   "cell_type": "code",
   "execution_count": 64,
   "metadata": {},
   "outputs": [
    {
     "name": "stdout",
     "output_type": "stream",
     "text": [
      "7 2 9\n"
     ]
    }
   ],
   "source": [
    "from sklearn.model_selection import train_test_split ### import train test split from model selection package\n",
    "\n",
    "### got (X_train,y_train) and (X_test,y_test) data matrix\n",
    "X_train, X_test, y_train, y_test = train_test_split(classified_df['sentence'], classified_df['intent'], test_size=0.2)\n",
    "\n",
    "print(len(X_train), len(X_test), len(X_train) + len(X_test))"
   ]
  },
  {
   "cell_type": "code",
   "execution_count": 65,
   "metadata": {},
   "outputs": [
    {
     "data": {
      "text/plain": [
       "<7x25 sparse matrix of type '<class 'numpy.float64'>'\n",
       "\twith 22 stored elements in Compressed Sparse Row format>"
      ]
     },
     "execution_count": 65,
     "metadata": {},
     "output_type": "execute_result"
    }
   ],
   "source": [
    "# transform testing data (using fitted vocabulary) into a document-term matrix# trans \n",
    "X_train = bow_transformer.transform(X_train)\n",
    "X_test_dtm = tfidf_transformer.transform(X_train)\n",
    "X_test_dtm"
   ]
  },
  {
   "cell_type": "markdown",
   "metadata": {},
   "source": [
    "### print out the confusion matrix"
   ]
  },
  {
   "cell_type": "code",
   "execution_count": 68,
   "metadata": {},
   "outputs": [],
   "source": [
    "from sklearn.metrics import confusion_matrix"
   ]
  },
  {
   "cell_type": "code",
   "execution_count": 69,
   "metadata": {},
   "outputs": [
    {
     "name": "stdout",
     "output_type": "stream",
     "text": [
      "['payment' 'booking' 'payment' 'booking' 'greeting' 'booking' 'greeting']\n",
      "[[3 0 0]\n",
      " [0 2 0]\n",
      " [0 0 2]]\n"
     ]
    }
   ],
   "source": [
    "# Predicting the train set results\n",
    "\n",
    "y_train_pred = detect_model3.predict(X_test_dtm)\n",
    "print(y_train_pred)\n",
    "cm_train = confusion_matrix(y_train, y_train_pred)\n",
    "print(cm_train)"
   ]
  },
  {
   "cell_type": "markdown",
   "metadata": {},
   "source": [
    "#### perfrom predict operation on input user query"
   ]
  },
  {
   "cell_type": "code",
   "execution_count": 70,
   "metadata": {},
   "outputs": [
    {
     "name": "stdout",
     "output_type": "stream",
     "text": [
      "can you just confirm my ticket booking\n",
      "(1, 25)\n"
     ]
    }
   ],
   "source": [
    "sentence4 =\"can you just confirm my ticket booking\" ### \n",
    "print(sentence4)\n",
    "bow4 = bow_transformer.transform([sentence4])\n",
    "print(bow4.shape)"
   ]
  },
  {
   "cell_type": "code",
   "execution_count": 71,
   "metadata": {},
   "outputs": [
    {
     "name": "stdout",
     "output_type": "stream",
     "text": [
      "  (0, 22)\t0.4608478760896585\n",
      "  (0, 8)\t0.62754252250491\n",
      "  (0, 4)\t0.62754252250491\n"
     ]
    }
   ],
   "source": [
    "\n",
    "tfidf4 = tfidf_transformer.transform(bow4)\n",
    "print(tfidf4)"
   ]
  },
  {
   "cell_type": "code",
   "execution_count": null,
   "metadata": {},
   "outputs": [],
   "source": []
  }
 ],
 "metadata": {
  "kernelspec": {
   "display_name": "Python 3",
   "language": "python",
   "name": "python3"
  },
  "language_info": {
   "codemirror_mode": {
    "name": "ipython",
    "version": 3
   },
   "file_extension": ".py",
   "mimetype": "text/x-python",
   "name": "python",
   "nbconvert_exporter": "python",
   "pygments_lexer": "ipython3",
   "version": "3.6.4"
  }
 },
 "nbformat": 4,
 "nbformat_minor": 2
}
